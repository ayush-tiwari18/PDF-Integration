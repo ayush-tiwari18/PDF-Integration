{
  "cells": [
    {
      "cell_type": "code",
      "source": [
        "!pip install PyPDF2"
      ],
      "metadata": {
        "colab": {
          "base_uri": "https://localhost:8080/"
        },
        "id": "Dckhe4tAodxM",
        "outputId": "46018dd1-d98a-4171-eb38-dfac73656c9a"
      },
      "execution_count": 2,
      "outputs": [
        {
          "output_type": "stream",
          "name": "stdout",
          "text": [
            "Collecting PyPDF2\n",
            "  Downloading pypdf2-3.0.1-py3-none-any.whl (232 kB)\n",
            "\u001b[?25l     \u001b[90m━━━━━━━━━━━━━━━━━━━━━━━━━━━━━━━━━━━━━━━━\u001b[0m \u001b[32m0.0/232.6 kB\u001b[0m \u001b[31m?\u001b[0m eta \u001b[36m-:--:--\u001b[0m\r\u001b[2K     \u001b[91m━━━━━━━━━━━━━━━━━━━━━━━━━━━━━━━━━━━━━━\u001b[0m\u001b[91m╸\u001b[0m\u001b[90m━\u001b[0m \u001b[32m225.3/232.6 kB\u001b[0m \u001b[31m6.5 MB/s\u001b[0m eta \u001b[36m0:00:01\u001b[0m\r\u001b[2K     \u001b[90m━━━━━━━━━━━━━━━━━━━━━━━━━━━━━━━━━━━━━━━━\u001b[0m \u001b[32m232.6/232.6 kB\u001b[0m \u001b[31m5.2 MB/s\u001b[0m eta \u001b[36m0:00:00\u001b[0m\n",
            "\u001b[?25hInstalling collected packages: PyPDF2\n",
            "Successfully installed PyPDF2-3.0.1\n"
          ]
        }
      ]
    },
    {
      "cell_type": "code",
      "source": [
        "import PyPDF2\n",
        "\n",
        "\n",
        "def extract_text_from_pdf(file_path):\n",
        "    pdf_reader = PyPDF2.PdfReader(file_path)\n",
        "    text = ''\n",
        "    for page_num in range(len(pdf_reader.pages)):\n",
        "        page = pdf_reader.pages[page_num]\n",
        "        text += page.extract_text()\n",
        "    return text\n",
        "\n",
        "\n",
        "def save_text_to_file(text, output_path):\n",
        "    with open(output_path, 'w', encoding='utf-8') as file:\n",
        "        file.write(text)\n",
        "\n",
        "\n",
        "def replace_word_in_file(input_path, output_path, old_word, new_word):\n",
        "    with open(input_path, 'r', encoding='utf-8') as file:\n",
        "        content = file.read()\n",
        "    modified_content = content.replace(old_word, new_word)\n",
        "    with open(output_path, 'w', encoding='utf-8') as file:\n",
        "        file.write(modified_content)\n",
        "\n",
        "# Example usage\n",
        "pdf_file_path = '/content/SSC-CGL-New-Syllabus-2024-for-tier-ii-and-tier-New-New.pdf'\n",
        "initial_output_text_path = 'output.txt'\n",
        "final_output_text_path = 'modified_output.txt'\n",
        "\n",
        "# Step 1: Extract text from PDF and save it to a text file\n",
        "text = extract_text_from_pdf(pdf_file_path)\n",
        "save_text_to_file(text, initial_output_text_path)\n",
        "\n",
        "# Step 2: Replace specific word in the text file\n",
        "replace_word_in_file(initial_output_text_path, final_output_text_path, 'SarkariResult.Com', '*****')\n",
        "\n",
        "print(f'Text extracted, saved to {initial_output_text_path}, and modified version saved to {final_output_text_path}')"
      ],
      "metadata": {
        "colab": {
          "base_uri": "https://localhost:8080/"
        },
        "id": "0bD4Hk7Cn8Si",
        "outputId": "f451ce3b-72f7-472e-9906-ae4568e5b5a8"
      },
      "execution_count": 4,
      "outputs": [
        {
          "output_type": "stream",
          "name": "stdout",
          "text": [
            "Text extracted, saved to output.txt, and modified version saved to modified_output.txt\n"
          ]
        }
      ]
    },
    {
      "cell_type": "code",
      "source": [
        "!pip install PyPDF2 reportlab"
      ],
      "metadata": {
        "colab": {
          "base_uri": "https://localhost:8080/"
        },
        "id": "8eJqJos8ps_X",
        "outputId": "e85e55a0-4fe4-4737-f7fb-46c371a13b0b"
      },
      "execution_count": 5,
      "outputs": [
        {
          "output_type": "stream",
          "name": "stdout",
          "text": [
            "Requirement already satisfied: PyPDF2 in /usr/local/lib/python3.10/dist-packages (3.0.1)\n",
            "Collecting reportlab\n",
            "  Downloading reportlab-4.2.2-py3-none-any.whl (1.9 MB)\n",
            "\u001b[2K     \u001b[90m━━━━━━━━━━━━━━━━━━━━━━━━━━━━━━━━━━━━━━━━\u001b[0m \u001b[32m1.9/1.9 MB\u001b[0m \u001b[31m14.0 MB/s\u001b[0m eta \u001b[36m0:00:00\u001b[0m\n",
            "\u001b[?25hRequirement already satisfied: pillow>=9.0.0 in /usr/local/lib/python3.10/dist-packages (from reportlab) (9.4.0)\n",
            "Requirement already satisfied: chardet in /usr/local/lib/python3.10/dist-packages (from reportlab) (5.2.0)\n",
            "Installing collected packages: reportlab\n",
            "Successfully installed reportlab-4.2.2\n"
          ]
        }
      ]
    },
    {
      "cell_type": "code",
      "source": [
        "from reportlab.lib.pagesizes import letter\n",
        "from reportlab.pdfgen import canvas\n",
        "\n",
        "def convert_text_to_pdf(text_file_path, pdf_file_path):\n",
        "    # Read text from file\n",
        "    with open(text_file_path, 'r', encoding='utf-8') as file:\n",
        "        lines = file.readlines()\n",
        "\n",
        "    # Create PDF\n",
        "    c = canvas.Canvas(pdf_file_path, pagesize=letter)\n",
        "    width, height = letter\n",
        "    y = height - 40\n",
        "\n",
        "    for line in lines:\n",
        "        if y < 40:\n",
        "            c.showPage()\n",
        "            y = height - 40\n",
        "        c.drawString(40, y, line.strip())\n",
        "        y -= 20\n",
        "\n",
        "    c.save()\n",
        "\n",
        "# Example usage\n",
        "modified_pdf_path = 'modified_output.pdf'\n",
        "\n",
        "# Step 3: Convert the modified text file back to PDF\n",
        "convert_text_to_pdf(final_output_text_path, modified_pdf_path)\n",
        "\n",
        "print(f'Modified text saved to {final_output_text_path} and converted to PDF {modified_pdf_path}')"
      ],
      "metadata": {
        "colab": {
          "base_uri": "https://localhost:8080/"
        },
        "id": "NJEckNUTprA4",
        "outputId": "03672f09-3a25-47f8-e2ec-74da557b3cae"
      },
      "execution_count": 7,
      "outputs": [
        {
          "output_type": "stream",
          "name": "stdout",
          "text": [
            "Modified text saved to modified_output.txt and converted to PDF modified_output.pdf\n"
          ]
        }
      ]
    }
  ],
  "metadata": {
    "colab": {
      "name": "Welcome To Colab",
      "provenance": []
    },
    "kernelspec": {
      "display_name": "Python 3",
      "name": "python3"
    }
  },
  "nbformat": 4,
  "nbformat_minor": 0
}